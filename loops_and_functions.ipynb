{
 "cells": [
  {
   "cell_type": "markdown",
   "metadata": {},
   "source": [
    "# Learning C with Examples"
   ]
  },
  {
   "cell_type": "markdown",
   "metadata": {},
   "source": [
    "# A. For the following code indicate what values for variables listed when the code ends"
   ]
  },
  {
   "cell_type": "code",
   "execution_count": null,
   "metadata": {
    "collapsed": true
   },
   "outputs": [],
   "source": [
    "#include<stdio.h>\n",
    "#include<math.h>\n",
    "\n",
    "int main ()\n",
    "{\n",
    "\n",
    "int x, y, z;\n",
    "\n",
    "for ( x = 2, y = 5, z = 2; x < 5; x++, y++ )\n",
    "{\n",
    "    z = x * y + z;\n",
    "} \n",
    "printf(\"Variables: %s%d%s%d%s%d \", \" x = \", x , \", y = \", y, \", z = \",z);\n",
    "    \n",
    "return 0;\n",
    "}"
   ]
  },
  {
   "cell_type": "markdown",
   "metadata": {},
   "source": [
    "output: \n",
    "    Variables:  x = 5, y = 8, z = 58"
   ]
  },
  {
   "cell_type": "code",
   "execution_count": null,
   "metadata": {
    "collapsed": true
   },
   "outputs": [],
   "source": [
    "#include<stdio.h>\n",
    "#include<math.h>\n",
    "\n",
    "int main ()\n",
    "{\n",
    "    \n",
    "int x = 1, sum = 0;\n",
    "while ( x < 7)\n",
    "    {\n",
    "    sum += x * 2;\n",
    "    x++;\n",
    "    } \n",
    "printf(\"\\nVariables: %s%d%s%d \", \" x = \", x , \", sum= \", y);    \n",
    "return 0;\n",
    "}"
   ]
  },
  {
   "cell_type": "markdown",
   "metadata": {},
   "source": [
    "output: Variables:  x = 7, sum= 8 "
   ]
  },
  {
   "cell_type": "code",
   "execution_count": null,
   "metadata": {
    "collapsed": true
   },
   "outputs": [],
   "source": [
    "#include<stdio.h>\n",
    "#include<math.h>\n",
    "\n",
    "int main ()\n",
    "{\n",
    "for ( s = 7, c = 2, ans = 0; s >2 ; s--, c++ )\n",
    "    {\n",
    "    ans += s * c;\n",
    "    } \n",
    "printf(\"\\nVariables: %s%d%s%d \", \" a = \", a , \", total = \", total);\n",
    "return 0;\n",
    "}"
   ]
  },
  {
   "cell_type": "markdown",
   "metadata": {},
   "source": [
    "output: Variables:  s = 2, c = 7, ans = 90 "
   ]
  },
  {
   "cell_type": "code",
   "execution_count": null,
   "metadata": {
    "collapsed": true
   },
   "outputs": [],
   "source": [
    "#include<stdio.h>\n",
    "#include<math.h>\n",
    "\n",
    "int main ()\n",
    "{\n",
    "int a = 8, total = 1;\n",
    "while ( a < 1)\n",
    "    {\n",
    "    total += a-- / 2;\n",
    "    }\n",
    "printf(\"\\nVariables: %s%d%s%d \", \" a = \", a , \", total = \", total);\n",
    "return 0;\n",
    "}"
   ]
  },
  {
   "cell_type": "markdown",
   "metadata": {},
   "source": [
    "output:Variables:  a = 8, total = 1 "
   ]
  },
  {
   "cell_type": "markdown",
   "metadata": {},
   "source": [
    "# Create the following functions."
   ]
  },
  {
   "cell_type": "markdown",
   "metadata": {},
   "source": [
    "Create a function called recArea. The function will calculate the area of a rectangle. It\n",
    "will receive 2 integers, length and width and will return the area as an integer"
   ]
  },
  {
   "cell_type": "code",
   "execution_count": null,
   "metadata": {
    "collapsed": true
   },
   "outputs": [],
   "source": [
    "#include<stdio.h>\n",
    "#include<math.h>\n",
    "\n",
    "int recArea(int, int);\n",
    "\n",
    "int main ()\n",
    "{\n",
    "\n",
    "int area = recArea(5,10);\n",
    "printf(\"\\nThe area of the rectangle : %d\", area);\n",
    "}\n",
    "\n",
    "printf(\"\\nThank you\\n\\n\");\n",
    "return 0;\n",
    "\n",
    "}\n",
    "\n",
    "int recArea(int length, int width)\n",
    "{\n",
    "    return length * width;\n",
    "}\n"
   ]
  },
  {
   "cell_type": "markdown",
   "metadata": {},
   "source": [
    "output: The area of the rectangle : 50"
   ]
  },
  {
   "cell_type": "markdown",
   "metadata": {},
   "source": [
    "Create a function called square. The function will calculate the square of an integer. It\n",
    "will receive integer and will return the square of integer."
   ]
  },
  {
   "cell_type": "code",
   "execution_count": null,
   "metadata": {
    "collapsed": true
   },
   "outputs": [],
   "source": [
    "#include<stdio.h>\n",
    "#include<math.h>\n",
    "\n",
    "int square(int);\n",
    "\n",
    "int main ()\n",
    "{\n",
    "int square_root = square(5);\n",
    "printf(\"\\nThe square of number : %d\", square_root);\n",
    "\n",
    "printf(\"\\nThank you\\n\\n\");\n",
    "return 0;\n",
    "\n",
    "}\n",
    "\n",
    "int square(int number)\n",
    "{\n",
    "    return number * number;\n",
    "}"
   ]
  },
  {
   "cell_type": "markdown",
   "metadata": {},
   "source": [
    "output: The square of number : 25"
   ]
  },
  {
   "cell_type": "markdown",
   "metadata": {},
   "source": [
    "Create a function called power. The function will calculate the value of the number\n",
    "raised to the power given. It will receive two integers, number and pow and will return\n",
    "the value of integer number raised to the power pow. "
   ]
  },
  {
   "cell_type": "code",
   "execution_count": null,
   "metadata": {
    "collapsed": true
   },
   "outputs": [],
   "source": [
    "#include<stdio.h>\n",
    "#include<math.h>\n",
    "\n",
    "int power(int, int);\n",
    "\n",
    "int main ()\n",
    "{\n",
    "int result = pow(4,3);\n",
    "int number, pow;\n",
    "printf(\"\\nThe number 4 cubed is : %d\", result);\n",
    "\n",
    "printf(\"\\nThank you\\n\\n\");\n",
    "return 0;\n",
    "}\n",
    "\n",
    "int power(int number, int power)\n",
    "{\n",
    "        int result = 1;\n",
    "        if ( power > 0)\n",
    "               for (int n = 0; n < power; n++)\n",
    "                      result *= number;\n",
    "        else\n",
    "               for (int n = 0; n > power; n--)\n",
    "                      result /= number;\n",
    "        return result;\n",
    "}\n",
    "\n"
   ]
  },
  {
   "cell_type": "markdown",
   "metadata": {},
   "source": [
    "Write a statement that will assign to the already declared integer variable powa the value\n",
    "returned by the function power. The base value and the power are in the base and exp\n",
    "variables."
   ]
  },
  {
   "cell_type": "code",
   "execution_count": null,
   "metadata": {
    "collapsed": true
   },
   "outputs": [],
   "source": [
    "#include<stdio.h>\n",
    "#include<math.h>\n",
    "\n",
    "int powa(int, int);\n",
    "\n",
    "\n",
    "int main ()\n",
    "{\n",
    "int ans_powa = powa(5,3);\n",
    "int base, exponent;\n",
    "printf(\"\\nThe number 5 cubed is : %d\", ans_powa);\n",
    "\n",
    "printf(\"\\nThank you\\n\\n\");\n",
    "return 0;\n",
    "}\n",
    "\n",
    "int exponent,base;\n",
    "int powa(int base, int exponent)\n",
    "{\n",
    "        int ans_powa = 1;\n",
    "        if ( exponent > 0)\n",
    "               for (int n = 0; n < exponent; n++)\n",
    "                      ans_powa *= base;\n",
    "        else\n",
    "               for (int n = 0; n > exponent; n--)\n",
    "                      ans_powa /= base;\n",
    "        return ans_powa;\n",
    "}\n",
    "\n"
   ]
  },
  {
   "cell_type": "markdown",
   "metadata": {},
   "source": [
    "Write a statement that will assign to the already declared integer variable area the value\n",
    "returned by the function square. The length of one side is stored in the variable side."
   ]
  },
  {
   "cell_type": "code",
   "execution_count": null,
   "metadata": {
    "collapsed": true
   },
   "outputs": [],
   "source": [
    "#include<stdio.h>\n",
    "#include<math.h>\n",
    "\n",
    "int square(int);\n",
    "\n",
    "int main ()\n",
    "{\n",
    "int side;\n",
    "int square_shape = square(side);\n",
    "\n",
    "square_shape = square(5);\n",
    "\n",
    "printf(\"\\nThe square with a side of 5 meters has an area of : %d\", square_shape);\n",
    "printf(\"\\nThank you\\n\\n\");\n",
    "\n",
    "return 0;\n",
    "}\n",
    "\n",
    "int square(int number)\n",
    "{\n",
    "    return number * number;\n",
    "}\n"
   ]
  }
 ],
 "metadata": {
  "kernelspec": {
   "display_name": "Python 2",
   "language": "python",
   "name": "python2"
  },
  "language_info": {
   "codemirror_mode": {
    "name": "ipython",
    "version": 2
   },
   "file_extension": ".py",
   "mimetype": "text/x-python",
   "name": "python",
   "nbconvert_exporter": "python",
   "pygments_lexer": "ipython2",
   "version": "2.7.12"
  }
 },
 "nbformat": 4,
 "nbformat_minor": 2
}
